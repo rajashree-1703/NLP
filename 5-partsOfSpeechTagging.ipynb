{
 "cells": [
  {
   "cell_type": "markdown",
   "id": "71bb992b",
   "metadata": {},
   "source": [
    "## Parts of Speech Tags\n",
    "\n",
    "Below are the list of Parts of speech tags, now we need to know each token/word is which type of parts of speech, based on this we can find on which entity the words will fall, Will see Named enityt recognition in next step.\n",
    "\n",
    "CC coordinating conjuction\n",
    "\n",
    "CD cardinal digit\n",
    "\n",
    "DT determiner\n",
    "\n",
    "EX existential there\n",
    "\n",
    "FW foreign word\n",
    "\n",
    "IN preposition/subordinating conjuction\n",
    "\n",
    "JJ adjective\n",
    "\n",
    "JJR adjective, comparative\n",
    "\n",
    "JJS adjective, superlative\n",
    "\n",
    "LS list marker\n",
    "\n",
    "MD modal\n",
    "\n",
    "NN noun, singular or mass\n",
    "\n",
    "NNS noun, plural\n",
    "\n",
    "NNP proper noun, singular\n",
    "\n",
    "NNPS proper noun, plural\n",
    "\n",
    "PDT predeterminer\n",
    "\n",
    "POS possessive ending\n",
    "\n",
    "PRP personal pronoun\n",
    "\n",
    "PRP$ possessive pronoun\n",
    "\n",
    "RB adverb\n",
    "\n",
    "RBR adverb, comparative\n",
    "\n",
    "RBS adverb, superlative\n",
    "\n",
    "RP particle\n",
    "\n",
    "SYM symbol\n",
    "\n",
    "TO to\n",
    "\n",
    "UH interjection\n",
    "\n",
    "VB verb, base form\n",
    "\n",
    "VBD verb, past tense\n",
    "\n",
    "VBG verb, gerund or present participle\n",
    "\n",
    "VBN verb, past participle\n",
    "\n",
    "VBP verb, non-3rd person singular present\n",
    "\n",
    "VBZ verb, 3rd person singular present\n",
    "\n",
    "WDT wh-determiner\n",
    "\n",
    "WP wh-pronoun\n",
    "\n",
    "WP$ possessive wh-pronoun\n",
    "\n",
    "WRB wh-adverb"
   ]
  },
  {
   "cell_type": "code",
   "execution_count": 24,
   "id": "21a56930",
   "metadata": {},
   "outputs": [],
   "source": [
    "paragraph = \"\"\" At its core, NLP is a branch of artificial intelligence that focuses on enabling computers to understand,\n",
    "interpret, and respond to human language in a meaningful way. Whether it's text or speech, \n",
    "NLP gives machines the ability to interact with us just like another human might.\n",
    "Think about how you use Siri, Google Assistant, or Alexa. Ever typed a sentence into Google Translate or spoken a message that was transcribed into text? All of this is made possible through NLP.\n",
    "So, how does it work?\n",
    "NLP combines linguistics, machine learning, and statistics. It breaks down language into parts—like tokens, syntax, semantics, and context—so computers can analyze them.\n",
    "Tools like NLTK, spaCy, and models like GPT (yes, the same tech powering ChatGPT!) are used for tasks such as translation, summarization, and answering questions.\n",
    "Of course, NLP isn’t perfect. Human language is complex—it’s full of sarcasm, slang, cultural nuances, and ambiguity. But with advances in deep learning and big data, NLP is rapidly improving.\n",
    "In the coming years, NLP will become even more integrated into our lives—powering better communication tools, smarter assistants, and more intuitive ways of interacting with technology.\n",
    "To conclude, NLP is not just about teaching machines how to read or talk—it’s about bridging the gap between humans and machines, making technology feel more natural and human-centric.\n",
    "Thank you!\n",
    "\"\"\"\n"
   ]
  },
  {
   "cell_type": "code",
   "execution_count": 25,
   "id": "843fb6a6",
   "metadata": {},
   "outputs": [],
   "source": [
    "import nltk\n",
    "from nltk.corpus import stopwords\n",
    "from nltk import word_tokenize, pos_tag\n",
    "\n",
    "sentences=nltk.sent_tokenize(paragraph)"
   ]
  },
  {
   "cell_type": "code",
   "execution_count": 26,
   "id": "c4e9d82d",
   "metadata": {},
   "outputs": [
    {
     "data": {
      "text/plain": [
       "[' At its core, NLP is a branch of artificial intelligence that focuses on enabling computers to understand,\\ninterpret, and respond to human language in a meaningful way.',\n",
       " \"Whether it's text or speech, \\nNLP gives machines the ability to interact with us just like another human might.\",\n",
       " 'Think about how you use Siri, Google Assistant, or Alexa.',\n",
       " 'Ever typed a sentence into Google Translate or spoken a message that was transcribed into text?',\n",
       " 'All of this is made possible through NLP.',\n",
       " 'So, how does it work?',\n",
       " 'NLP combines linguistics, machine learning, and statistics.',\n",
       " 'It breaks down language into parts—like tokens, syntax, semantics, and context—so computers can analyze them.',\n",
       " 'Tools like NLTK, spaCy, and models like GPT (yes, the same tech powering ChatGPT!)',\n",
       " 'are used for tasks such as translation, summarization, and answering questions.',\n",
       " 'Of course, NLP isn’t perfect.',\n",
       " 'Human language is complex—it’s full of sarcasm, slang, cultural nuances, and ambiguity.',\n",
       " 'But with advances in deep learning and big data, NLP is rapidly improving.',\n",
       " 'In the coming years, NLP will become even more integrated into our lives—powering better communication tools, smarter assistants, and more intuitive ways of interacting with technology.',\n",
       " 'To conclude, NLP is not just about teaching machines how to read or talk—it’s about bridging the gap between humans and machines, making technology feel more natural and human-centric.',\n",
       " 'Thank you!']"
      ]
     },
     "execution_count": 26,
     "metadata": {},
     "output_type": "execute_result"
    }
   ],
   "source": [
    "sentences"
   ]
  },
  {
   "cell_type": "code",
   "execution_count": null,
   "id": "55d7a79b",
   "metadata": {},
   "outputs": [
    {
     "name": "stderr",
     "output_type": "stream",
     "text": [
      "[nltk_data] Downloading package averaged_perceptron_tagger to\n",
      "[nltk_data]     /Users/udmdev/nltk_data...\n",
      "[nltk_data]   Package averaged_perceptron_tagger is already up-to-\n",
      "[nltk_data]       date!\n",
      "[nltk_data] Downloading package averaged_perceptron_tagger_eng to\n",
      "[nltk_data]     /Users/udmdev/nltk_data...\n",
      "[nltk_data]   Package averaged_perceptron_tagger_eng is already up-to-\n",
      "[nltk_data]       date!\n"
     ]
    },
    {
     "data": {
      "text/plain": [
       "True"
      ]
     },
     "execution_count": 27,
     "metadata": {},
     "output_type": "execute_result"
    }
   ],
   "source": [
    "## Downloading the POS dataset\n",
    "import nltk\n",
    "nltk.download('averaged_perceptron_tagger')\n",
    "nltk.download('averaged_perceptron_tagger_eng')"
   ]
  },
  {
   "cell_type": "code",
   "execution_count": null,
   "id": "5303ad07",
   "metadata": {},
   "outputs": [
    {
     "name": "stdout",
     "output_type": "stream",
     "text": [
      "[('At', 'IN'), ('core', 'NN'), (',', ','), ('NLP', 'NNP'), ('branch', 'NN'), ('artificial', 'JJ'), ('intelligence', 'NN'), ('focuses', 'NNS'), ('enabling', 'VBG'), ('computers', 'NNS'), ('understand', 'RB'), (',', ','), ('interpret', 'NN'), (',', ','), ('respond', 'NN'), ('human', 'JJ'), ('language', 'NN'), ('meaningful', 'JJ'), ('way', 'NN'), ('.', '.')]\n",
      "[('Whether', 'NNP'), (\"'s\", 'POS'), ('text', 'NN'), ('speech', 'NN'), (',', ','), ('NLP', 'NNP'), ('gives', 'VBZ'), ('machines', 'NNS'), ('ability', 'NN'), ('interact', 'VBP'), ('us', 'PRP'), ('like', 'IN'), ('another', 'DT'), ('human', 'JJ'), ('might', 'MD'), ('.', '.')]\n",
      "[('Think', 'NNP'), ('use', 'NN'), ('Siri', 'NNP'), (',', ','), ('Google', 'NNP'), ('Assistant', 'NNP'), (',', ','), ('Alexa', 'NNP'), ('.', '.')]\n",
      "[('Ever', 'RB'), ('typed', 'VBN'), ('sentence', 'NN'), ('Google', 'NNP'), ('Translate', 'NNP'), ('spoken', 'JJ'), ('message', 'NN'), ('transcribed', 'VBD'), ('text', 'NN'), ('?', '.')]\n",
      "[('All', 'DT'), ('made', 'VBD'), ('possible', 'JJ'), ('NLP', 'NNP'), ('.', '.')]\n",
      "[('So', 'RB'), (',', ','), ('work', 'NN'), ('?', '.')]\n",
      "[('NLP', 'NNP'), ('combines', 'NNS'), ('linguistics', 'NNS'), (',', ','), ('machine', 'NN'), ('learning', 'NN'), (',', ','), ('statistics', 'NNS'), ('.', '.')]\n",
      "[('It', 'PRP'), ('breaks', 'VBZ'), ('language', 'NN'), ('parts—like', 'NN'), ('tokens', 'NNS'), (',', ','), ('syntax', 'NN'), (',', ','), ('semantics', 'NNS'), (',', ','), ('context—so', 'JJ'), ('computers', 'NNS'), ('analyze', 'VBP'), ('.', '.')]\n",
      "[('Tools', 'NNS'), ('like', 'IN'), ('NLTK', 'NNP'), (',', ','), ('spaCy', 'NN'), (',', ','), ('models', 'NNS'), ('like', 'IN'), ('GPT', 'NNP'), ('(', '('), ('yes', 'UH'), (',', ','), ('tech', 'JJ'), ('powering', 'VBG'), ('ChatGPT', 'NNP'), ('!', '.'), (')', ')')]\n",
      "[('used', 'VBN'), ('tasks', 'NNS'), ('translation', 'NN'), (',', ','), ('summarization', 'NN'), (',', ','), ('answering', 'VBG'), ('questions', 'NNS'), ('.', '.')]\n",
      "[('Of', 'IN'), ('course', 'NN'), (',', ','), ('NLP', 'NNP'), ('’', 'NNP'), ('perfect', 'NN'), ('.', '.')]\n",
      "[('Human', 'JJ'), ('language', 'NN'), ('complex—it', 'NN'), ('’', 'NNP'), ('full', 'JJ'), ('sarcasm', 'NN'), (',', ','), ('slang', 'NN'), (',', ','), ('cultural', 'JJ'), ('nuances', 'NNS'), (',', ','), ('ambiguity', 'NN'), ('.', '.')]\n",
      "[('But', 'CC'), ('advances', 'NNS'), ('deep', 'VBP'), ('learning', 'VBG'), ('big', 'JJ'), ('data', 'NNS'), (',', ','), ('NLP', 'NNP'), ('rapidly', 'RB'), ('improving', 'VBG'), ('.', '.')]\n",
      "[('In', 'IN'), ('coming', 'JJ'), ('years', 'NNS'), (',', ','), ('NLP', 'NNP'), ('become', 'VBD'), ('even', 'RB'), ('integrated', 'JJ'), ('lives—powering', 'VBG'), ('better', 'JJR'), ('communication', 'NN'), ('tools', 'NNS'), (',', ','), ('smarter', 'NN'), ('assistants', 'NNS'), (',', ','), ('intuitive', 'JJ'), ('ways', 'NNS'), ('interacting', 'VBG'), ('technology', 'NN'), ('.', '.')]\n",
      "[('To', 'TO'), ('conclude', 'VB'), (',', ','), ('NLP', 'NNP'), ('teaching', 'VBG'), ('machines', 'NNS'), ('read', 'VBN'), ('talk—it', 'RB'), ('’', 'JJ'), ('bridging', 'VBG'), ('gap', 'NN'), ('humans', 'NNS'), ('machines', 'NNS'), (',', ','), ('making', 'VBG'), ('technology', 'NN'), ('feel', 'VB'), ('natural', 'JJ'), ('human-centric', 'JJ'), ('.', '.')]\n",
      "[('Thank', 'NN'), ('!', '.')]\n"
     ]
    }
   ],
   "source": [
    "## we will find the pos(parts of speech) tag\n",
    "for i in range(len(sentences)):\n",
    "    words= word_tokenize(sentences[i])\n",
    "    words = [word for word in words if word not in set(stopwords.words('english'))]\n",
    "    tagged = pos_tag(words)\n",
    "    print(tagged)"
   ]
  },
  {
   "cell_type": "code",
   "execution_count": null,
   "id": "ab7d48a6",
   "metadata": {},
   "outputs": [
    {
     "name": "stdout",
     "output_type": "stream",
     "text": [
      "[('Taj', 'NNP'), ('Mahal', 'NNP'), ('is', 'VBZ'), ('a', 'DT'), ('beautiful', 'JJ'), ('monument', 'NN')]\n"
     ]
    }
   ],
   "source": [
    "## In the below example we will find the pos tag for a simple sentence\n",
    "print(pos_tag(\"Taj Mahal is a beautiful monument\".split()))"
   ]
  }
 ],
 "metadata": {
  "kernelspec": {
   "display_name": "venv",
   "language": "python",
   "name": "python3"
  },
  "language_info": {
   "codemirror_mode": {
    "name": "ipython",
    "version": 3
   },
   "file_extension": ".py",
   "mimetype": "text/x-python",
   "name": "python",
   "nbconvert_exporter": "python",
   "pygments_lexer": "ipython3",
   "version": "3.13.3"
  }
 },
 "nbformat": 4,
 "nbformat_minor": 5
}
