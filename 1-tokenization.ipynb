{
 "cells": [
  {
   "cell_type": "code",
   "execution_count": null,
   "id": "cd8e3d76",
   "metadata": {},
   "outputs": [],
   "source": [
    "pip install nltk"
   ]
  },
  {
   "cell_type": "code",
   "execution_count": null,
   "id": "c7eb2236",
   "metadata": {},
   "outputs": [],
   "source": [
    "import nltk\n",
    "nltk.download('punkt')\n",
    "nltk.download('punkt_tab')"
   ]
  },
  {
   "cell_type": "code",
   "execution_count": null,
   "id": "d4f166b3",
   "metadata": {},
   "outputs": [],
   "source": [
    "corpus=\"\"\"Hello Welcome, to the world of NLP.\n",
    "It's a course from basci to advance.\n",
    "Please do watch the entire course!,Thank you.\n",
    "\"\"\""
   ]
  },
  {
   "cell_type": "code",
   "execution_count": null,
   "id": "1cbf4d7e",
   "metadata": {},
   "outputs": [],
   "source": [
    "## Corpus to Sentences\n",
    "from nltk.tokenize import sent_tokenize\n",
    "documents = sent_tokenize(corpus)\n",
    "print(documents)"
   ]
  },
  {
   "cell_type": "code",
   "execution_count": null,
   "id": "beab2ea4",
   "metadata": {},
   "outputs": [],
   "source": [
    "for sentence in documents:\n",
    "    print(sentence)"
   ]
  },
  {
   "cell_type": "code",
   "execution_count": null,
   "id": "b2205c3d",
   "metadata": {},
   "outputs": [],
   "source": [
    "## Corpus to Words\n",
    "from nltk.tokenize import word_tokenize\n",
    "words = word_tokenize(corpus)\n",
    "print(words)"
   ]
  },
  {
   "cell_type": "code",
   "execution_count": null,
   "id": "772fc49b",
   "metadata": {},
   "outputs": [],
   "source": [
    "## Making sure that the punctatinos is also created as seperate word\n",
    "from nltk.tokenize import wordpunct_tokenize"
   ]
  },
  {
   "cell_type": "code",
   "execution_count": null,
   "id": "aaec3df6",
   "metadata": {},
   "outputs": [],
   "source": [
    "words_punct = wordpunct_tokenize(corpus)\n",
    "print(words_punct)"
   ]
  },
  {
   "cell_type": "code",
   "execution_count": null,
   "id": "43970f1a",
   "metadata": {},
   "outputs": [],
   "source": [
    "## Treebank Word Tokenizer\n",
    "from nltk.tokenize import TreebankWordTokenizer"
   ]
  },
  {
   "cell_type": "code",
   "execution_count": null,
   "id": "1ea93a14",
   "metadata": {},
   "outputs": [],
   "source": [
    "tokenizer = TreebankWordTokenizer()"
   ]
  },
  {
   "cell_type": "code",
   "execution_count": null,
   "id": "3c586569",
   "metadata": {},
   "outputs": [],
   "source": [
    "## In treebank tokenizer, if you notice only the last word of sentence for fullstop is tokenized\n",
    "tokenizer.tokenize(corpus)"
   ]
  },
  {
   "cell_type": "code",
   "execution_count": null,
   "id": "3f148e41",
   "metadata": {},
   "outputs": [],
   "source": []
  }
 ],
 "metadata": {
  "kernelspec": {
   "display_name": "venv",
   "language": "python",
   "name": "python3"
  },
  "language_info": {
   "codemirror_mode": {
    "name": "ipython",
    "version": 3
   },
   "file_extension": ".py",
   "mimetype": "text/x-python",
   "name": "python",
   "nbconvert_exporter": "python",
   "pygments_lexer": "ipython3",
   "version": "3.13.3"
  }
 },
 "nbformat": 4,
 "nbformat_minor": 5
}
