{
 "cells": [
  {
   "cell_type": "markdown",
   "id": "1ead95a7",
   "metadata": {},
   "source": [
    "## Wordnet Lemmatizer\n",
    "\n",
    "Lemmatization technique is like stemming. The output we will get after lemmatization is called 'lemma'. which is a root word rather than root stem, the output of stemming. After lemmatization, we will be getting a valid word that means the same thing."
   ]
  },
  {
   "cell_type": "markdown",
   "id": "27e69b95",
   "metadata": {},
   "source": [
    "## Root Word\n",
    "In NLP, \"root word\" and \"root stem\" are often used interchangeably, but technically they refer to different concepts in morphology,\n",
    "The root word is the most basic form of a word that carries meaning.\n",
    "It is usually a standalone word in the language.\n",
    "It doesn’t include any prefixes or suffixes.\n",
    "Think of it as the original word from which others are derived.\n",
    "\n",
    "Example:\n",
    "\"Unhappiness\"\n",
    "Root word: \"happy\"\n",
    "Prefix: \"un-\"\n",
    "Suffix: \"-ness\"\n",
    "Here, \"happy\" is a complete word by itself. It is the root word."
   ]
  },
  {
   "cell_type": "markdown",
   "id": "654b35b1",
   "metadata": {},
   "source": [
    "## Root Stem\n",
    "A stem is the part of the word that remains after removing inflectional endings, like plurals or tenses.\n",
    "It may or may not be a valid word on its own.\n",
    "Used mainly in stemming algorithms like Porter Stemmer.\n",
    "\n",
    "Example:\n",
    "\"running\", \"runner\", \"ran\"\n",
    "All have the stem \"run\".\n",
    "Here, \"run\" is both a root and a stem.\n",
    "\n",
    "But consider:\n",
    "\"studies\", \"studied\", \"studying\"\n",
    "The stem (after stemming) might be: \"studi\" (not a valid English word!)\n",
    "The root word: \"study\" (valid word)"
   ]
  },
  {
   "cell_type": "markdown",
   "id": "8a47a088",
   "metadata": {},
   "source": [
    "## Example for Root word and root stem\n",
    "\n",
    "Word: \"nationalization\"\n",
    "Root word: \"nation\"\n",
    "Stem (via stemming): \"nation\" or \"national\" (depends on algorithm)\n",
    "\n",
    "Word: \"better\"\n",
    "Root word (via lemmatization): \"good\"\n",
    "Stem (via stemming): \"better\""
   ]
  },
  {
   "cell_type": "code",
   "execution_count": 1,
   "id": "1e3b5f15",
   "metadata": {},
   "outputs": [
    {
     "name": "stderr",
     "output_type": "stream",
     "text": [
      "[nltk_data] Downloading package wordnet to /Users/udmdev/nltk_data...\n",
      "[nltk_data]   Package wordnet is already up-to-date!\n"
     ]
    },
    {
     "data": {
      "text/plain": [
       "True"
      ]
     },
     "execution_count": 1,
     "metadata": {},
     "output_type": "execute_result"
    }
   ],
   "source": [
    "import nltk\n",
    "nltk.download('wordnet')"
   ]
  },
  {
   "cell_type": "code",
   "execution_count": 2,
   "id": "abcedbf6",
   "metadata": {},
   "outputs": [],
   "source": [
    "from nltk.stem import WordNetLemmatizer"
   ]
  },
  {
   "cell_type": "code",
   "execution_count": 3,
   "id": "529cb9a3",
   "metadata": {},
   "outputs": [],
   "source": [
    "lemmatizer = WordNetLemmatizer()"
   ]
  },
  {
   "cell_type": "code",
   "execution_count": 4,
   "id": "c35ac9ee",
   "metadata": {},
   "outputs": [
    {
     "data": {
      "text/plain": [
       "'go'"
      ]
     },
     "execution_count": 4,
     "metadata": {},
     "output_type": "execute_result"
    }
   ],
   "source": [
    "'''\n",
    "POS-Noun -n\n",
    "verb-v\n",
    "adejective-a\n",
    "adverb-r\n",
    "'''\n",
    "## going is verb so we use pos='v'\n",
    "\n",
    "# lemmatizer.lemmatize(\"going\", pos='n')\n",
    "lemmatizer.lemmatize(\"going\", pos='v')\n",
    "# lemmatizer.lemmatize(\"going\", pos='a')\n",
    "# lemmatizer.lemmatize(\"going\", pos='r')"
   ]
  },
  {
   "cell_type": "code",
   "execution_count": 5,
   "id": "2ae7b59e",
   "metadata": {},
   "outputs": [],
   "source": [
    "words=[\"unhappiness\",\"eating\", \"eats\", \"eaten\", \"writing\", \"writes\", \"written\", \"Programming\", \"programs\", \"history\", \"finally\", \"finalized\", \"studies\", \"studied\", \"studying\" ]"
   ]
  },
  {
   "cell_type": "code",
   "execution_count": 6,
   "id": "3f0adbc5",
   "metadata": {},
   "outputs": [
    {
     "name": "stdout",
     "output_type": "stream",
     "text": [
      "unhappiness -----> unhappiness\n",
      "eating -----> eating\n",
      "eats -----> eats\n",
      "eaten -----> eaten\n",
      "writing -----> writing\n",
      "writes -----> writes\n",
      "written -----> written\n",
      "Programming -----> Programming\n",
      "programs -----> programs\n",
      "history -----> history\n",
      "finally -----> finally\n",
      "finalized -----> finalized\n",
      "studies -----> studies\n",
      "studied -----> studied\n",
      "studying -----> studying\n"
     ]
    }
   ],
   "source": [
    "for word in words:\n",
    "    # print(word+\" -----> \"+lemmatizer.lemmatize(word))\n",
    "    print(word+\" -----> \"+lemmatizer.lemmatize(word, pos='r'))\n",
    "\n",
    "# Why is the output still “unhappiness”?\n",
    "# Because:\n",
    "\n",
    "# NLTK lemmatizer treats \"unhappiness\" as a valid noun in WordNet.\n",
    "\n",
    "# It doesn't break the word into \"un-\" + \"happiness\" or further down to \"happy\"."
   ]
  },
  {
   "cell_type": "code",
   "execution_count": 7,
   "id": "d565243c",
   "metadata": {},
   "outputs": [
    {
     "data": {
      "text/plain": [
       "'go'"
      ]
     },
     "execution_count": 7,
     "metadata": {},
     "output_type": "execute_result"
    }
   ],
   "source": [
    "lemmatizer.lemmatize(\"goes\", pos='v')"
   ]
  },
  {
   "cell_type": "code",
   "execution_count": 8,
   "id": "daf706f1",
   "metadata": {},
   "outputs": [
    {
     "data": {
      "text/plain": [
       "('fairly', 'sportingly')"
      ]
     },
     "execution_count": 8,
     "metadata": {},
     "output_type": "execute_result"
    }
   ],
   "source": [
    "# lemmatizer.lemmatize(\"fairly\"),lemmatizer.lemmatize(\"sportingly\")\n",
    "lemmatizer.lemmatize(\"fairly\", pos='v'),lemmatizer.lemmatize(\"sportingly\", pos='v')"
   ]
  },
  {
   "cell_type": "markdown",
   "id": "ef07b660",
   "metadata": {},
   "source": [
    "So at the end if we ask Stemming or Lemmatization, answer is simple it's Lemmatization. with this we get meaningful word.\n",
    "\n",
    "NLTK provides WordNetLemmatizer class which is thin wrapper around the wordnet corpus. This class uses morphy() function to the wordnet CorpusReader class to find a lemma. Let us understand it with an example.\n",
    "\n",
    "## Usecase\n",
    "Q&A, chatbots, text summarization"
   ]
  }
 ],
 "metadata": {
  "kernelspec": {
   "display_name": "venv",
   "language": "python",
   "name": "python3"
  },
  "language_info": {
   "codemirror_mode": {
    "name": "ipython",
    "version": 3
   },
   "file_extension": ".py",
   "mimetype": "text/x-python",
   "name": "python",
   "nbconvert_exporter": "python",
   "pygments_lexer": "ipython3",
   "version": "3.13.3"
  }
 },
 "nbformat": 4,
 "nbformat_minor": 5
}
