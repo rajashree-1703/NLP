{
 "cells": [
  {
   "cell_type": "markdown",
   "id": "e124c96b",
   "metadata": {},
   "source": [
    "## Stemming\n",
    "Stemming is the process of reducing a word to it's word stem that affixes to suffixes and prefixes or to the roots of words known as a lemma. Stemming is important in natural language understanding(NLU) and Natural Language Processing(NLP)"
   ]
  },
  {
   "cell_type": "code",
   "execution_count": 1,
   "id": "9a9345c0",
   "metadata": {},
   "outputs": [],
   "source": [
    "## Classification Problem\n",
    "## Comments of the product is a positive review or a negative review, when we are solving this kind of prblem statment\n",
    "## In that dataset we will be having Reviews and based on this review we wil be creating a model and classify that the review is negative or postive.\n",
    "## Reviews ---> eating, eat, eaten/ => which represents the same meaning regaring eat, so eat is the root word or stem. \n",
    "## (going, gone, goes) (go is the word stem) \n",
    "## having this variety of words in problem statment will not impact much with respect to finding the postive or negative review.\n",
    "## It's not necessary to similar kind of words, becuase it increases the number of i/p features, each and every word represents the vector, \n",
    "## instead of having the smilar kind of words will use just one word like eat or go, Stemming is also trying to do the same thing\n",
    "## Finding the word stem can be actually with the help of stemming and lemmatization\n",
    "\n",
    "words=[\"eating\", \"eats\", \"eaten\", \"writing\", \"writes\", \"programming\", \"programs\", \"history\", \"finally\", \"finalized\", \"studies\", \"studied\", \"studying\"]"
   ]
  },
  {
   "cell_type": "markdown",
   "id": "0cf5c0f2",
   "metadata": {},
   "source": [
    "## Porter stemmer"
   ]
  },
  {
   "cell_type": "code",
   "execution_count": 2,
   "id": "4e571971",
   "metadata": {},
   "outputs": [],
   "source": [
    "## First technique will use Porter stemmer\n",
    "from nltk.stem import PorterStemmer"
   ]
  },
  {
   "cell_type": "code",
   "execution_count": 3,
   "id": "b6bd1e37",
   "metadata": {},
   "outputs": [],
   "source": [
    "porterStemmer = PorterStemmer()"
   ]
  },
  {
   "cell_type": "code",
   "execution_count": 4,
   "id": "85a91bf8",
   "metadata": {},
   "outputs": [
    {
     "name": "stdout",
     "output_type": "stream",
     "text": [
      "eating ---> eat\n",
      "eats ---> eat\n",
      "eaten ---> eaten\n",
      "writing ---> write\n",
      "writes ---> write\n",
      "programming ---> program\n",
      "programs ---> program\n",
      "history ---> histori\n",
      "finally ---> final\n",
      "finalized ---> final\n",
      "studies ---> studi\n",
      "studied ---> studi\n",
      "studying ---> studi\n"
     ]
    }
   ],
   "source": [
    "for word in words:\n",
    "    print(word + \" ---> \" + porterStemmer.stem(word))"
   ]
  },
  {
   "cell_type": "code",
   "execution_count": 25,
   "id": "d200296b",
   "metadata": {},
   "outputs": [],
   "source": [
    "## for History, it is not able to find the stem, so it is not a good technique\n",
    "## So, it's major disadvantage is it is not able to find the stem "
   ]
  },
  {
   "cell_type": "code",
   "execution_count": 5,
   "id": "9c8b5a4a",
   "metadata": {},
   "outputs": [
    {
     "data": {
      "text/plain": [
       "'congratul'"
      ]
     },
     "execution_count": 5,
     "metadata": {},
     "output_type": "execute_result"
    }
   ],
   "source": [
    "porterStemmer.stem(\"Congratulations\")\n",
    "## It will give congratul, it changes the menaing of the word, so it is major disadvantage"
   ]
  },
  {
   "cell_type": "markdown",
   "id": "124a8ea9",
   "metadata": {},
   "source": [
    "## RegexpStemmer class\n",
    "\n",
    "NLTK has RegexpStemmer class with the help of which we can easily implement regular expression stemmer algorithms. It basically takes a single regular expression and removes any prefix or suffix that matches the expression, Let us see an example"
   ]
  },
  {
   "cell_type": "code",
   "execution_count": 6,
   "id": "899d790e",
   "metadata": {},
   "outputs": [],
   "source": [
    "## A stemmer that uses regular expressions to identify morphological affixes(It's a regular exp if it matches ot will remove). \n",
    "## Any Substring that match the regular expressions will be removed.\n",
    "from nltk.stem import RegexpStemmer"
   ]
  },
  {
   "cell_type": "code",
   "execution_count": 7,
   "id": "e378b3fd",
   "metadata": {},
   "outputs": [],
   "source": [
    "reg_stemmer = RegexpStemmer(\"ing$|s$|e$|es$|ed$\", min=4)"
   ]
  },
  {
   "cell_type": "code",
   "execution_count": 8,
   "id": "d124362e",
   "metadata": {},
   "outputs": [
    {
     "data": {
      "text/plain": [
       "'eats'"
      ]
     },
     "execution_count": 8,
     "metadata": {},
     "output_type": "execute_result"
    }
   ],
   "source": [
    "reg_stemmer.stem(\"eatsing\")"
   ]
  },
  {
   "cell_type": "code",
   "execution_count": 9,
   "id": "92c1c43a",
   "metadata": {},
   "outputs": [
    {
     "data": {
      "text/plain": [
       "'ingeat'"
      ]
     },
     "execution_count": 9,
     "metadata": {},
     "output_type": "execute_result"
    }
   ],
   "source": [
    "reg_stemmer.stem(\"ingeating\") ## Because the RegExp says only it matches last word."
   ]
  },
  {
   "cell_type": "markdown",
   "id": "1988c01b",
   "metadata": {},
   "source": [
    "## Snowball Stemmer\n",
    "\n",
    "Is stemming techniuqe, it perform better than porter stemmer, also it gives better form of word."
   ]
  },
  {
   "cell_type": "code",
   "execution_count": 10,
   "id": "4b55829f",
   "metadata": {},
   "outputs": [],
   "source": [
    "from nltk.stem import SnowballStemmer"
   ]
  },
  {
   "cell_type": "code",
   "execution_count": 11,
   "id": "52f553dc",
   "metadata": {},
   "outputs": [],
   "source": [
    "snowballStemmer = SnowballStemmer(\"english\") ## It gives a many languages"
   ]
  },
  {
   "cell_type": "code",
   "execution_count": 12,
   "id": "effb2f37",
   "metadata": {},
   "outputs": [
    {
     "name": "stdout",
     "output_type": "stream",
     "text": [
      "eating ------> eat\n",
      "eats ------> eat\n",
      "eaten ------> eaten\n",
      "writing ------> write\n",
      "writes ------> write\n",
      "programming ------> program\n",
      "programs ------> program\n",
      "history ------> histori\n",
      "finally ------> final\n",
      "finalized ------> final\n",
      "studies ------> studi\n",
      "studied ------> studi\n",
      "studying ------> studi\n"
     ]
    }
   ],
   "source": [
    "for word in words:\n",
    "    print(word+\" ------> \"+snowballStemmer.stem(word))"
   ]
  },
  {
   "cell_type": "code",
   "execution_count": 13,
   "id": "89687904",
   "metadata": {},
   "outputs": [
    {
     "data": {
      "text/plain": [
       "('fairli', 'sportingli')"
      ]
     },
     "execution_count": 13,
     "metadata": {},
     "output_type": "execute_result"
    }
   ],
   "source": [
    "porterStemmer.stem(\"fairly\"),porterStemmer.stem(\"sportingly\")"
   ]
  },
  {
   "cell_type": "code",
   "execution_count": 14,
   "id": "188d4da2",
   "metadata": {},
   "outputs": [
    {
     "data": {
      "text/plain": [
       "('fair', 'sport')"
      ]
     },
     "execution_count": 14,
     "metadata": {},
     "output_type": "execute_result"
    }
   ],
   "source": [
    "snowballStemmer.stem(\"fairly\"),snowballStemmer.stem(\"sportingly\")\n",
    "## Snowball stemmer when applied to various other words, performs better than porter stemmer."
   ]
  },
  {
   "cell_type": "code",
   "execution_count": 15,
   "id": "cfcc7198",
   "metadata": {},
   "outputs": [
    {
     "data": {
      "text/plain": [
       "'go'"
      ]
     },
     "execution_count": 15,
     "metadata": {},
     "output_type": "execute_result"
    }
   ],
   "source": [
    "snowballStemmer.stem(\"going\")"
   ]
  },
  {
   "cell_type": "code",
   "execution_count": 16,
   "id": "5b9fe8f7",
   "metadata": {},
   "outputs": [
    {
     "data": {
      "text/plain": [
       "'goe'"
      ]
     },
     "execution_count": 16,
     "metadata": {},
     "output_type": "execute_result"
    }
   ],
   "source": [
    "snowballStemmer.stem(\"goes\")"
   ]
  },
  {
   "cell_type": "code",
   "execution_count": null,
   "id": "11dcfe01",
   "metadata": {},
   "outputs": [],
   "source": [
    "## Even in snowball stemmer, it is not able to find the stem for the word \"going\" and \"goes\"\n",
    "## Even snowball stemmer has disadvanages, so usecase like chatbot and all, we can't use stemming, so for that we have something called lemmatization\n",
    "## Lemmatization is a process of converting a word to its base form, which is known as lemma.\n",
    "## Lemmatization solves the problem of stemming, because it has all the dictionary of all the root words, so it will find the stem for the word.\n",
    "## In Lemmatization it will remove this disadvantage, it will find the root word for the word \"going\" and \"goes\""
   ]
  }
 ],
 "metadata": {
  "kernelspec": {
   "display_name": "venv",
   "language": "python",
   "name": "python3"
  },
  "language_info": {
   "codemirror_mode": {
    "name": "ipython",
    "version": 3
   },
   "file_extension": ".py",
   "mimetype": "text/x-python",
   "name": "python",
   "nbconvert_exporter": "python",
   "pygments_lexer": "ipython3",
   "version": "3.13.3"
  }
 },
 "nbformat": 4,
 "nbformat_minor": 5
}
