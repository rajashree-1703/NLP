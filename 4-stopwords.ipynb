{
 "cells": [
  {
   "cell_type": "code",
   "execution_count": null,
   "id": "f432abb6",
   "metadata": {},
   "outputs": [],
   "source": [
    "import nltk\n",
    "import nltk.downloader\n",
    "nltk.downloader.download('wordnet')"
   ]
  }
 ],
 "metadata": {
  "language_info": {
   "name": "python"
  }
 },
 "nbformat": 4,
 "nbformat_minor": 5
}
